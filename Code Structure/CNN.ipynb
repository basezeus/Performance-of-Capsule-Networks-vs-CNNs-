{
  "nbformat": 4,
  "nbformat_minor": 0,
  "metadata": {
    "colab": {
      "name": "CNN.ipynb",
      "provenance": [],
      "collapsed_sections": []
    },
    "kernelspec": {
      "name": "python3",
      "display_name": "Python 3"
    },
    "accelerator": "GPU"
  },
  "cells": [
    {
      "cell_type": "markdown",
      "metadata": {
        "id": "QdBUdXaFoDkr",
        "colab_type": "text"
      },
      "source": [
        "**Import Statements**"
      ]
    },
    {
      "cell_type": "code",
      "metadata": {
        "id": "PmxtT8sfJscB",
        "colab_type": "code",
        "outputId": "d437786f-6491-46e2-fce7-507d01a8e651",
        "colab": {
          "base_uri": "https://localhost:8080/",
          "height": 34
        }
      },
      "source": [
        "from google.colab import drive\n",
        "drive.mount('/content/drive')"
      ],
      "execution_count": 0,
      "outputs": [
        {
          "output_type": "stream",
          "text": [
            "Drive already mounted at /content/drive; to attempt to forcibly remount, call drive.mount(\"/content/drive\", force_remount=True).\n"
          ],
          "name": "stdout"
        }
      ]
    },
    {
      "cell_type": "code",
      "metadata": {
        "id": "NxckPDenjuZ1",
        "colab_type": "code",
        "outputId": "664afbd4-3ad5-450d-f735-145b0c4b319f",
        "colab": {
          "base_uri": "https://localhost:8080/",
          "height": 34
        }
      },
      "source": [
        "import sys\n",
        "from matplotlib import pyplot as plt\n",
        "import keras\n",
        "from keras.datasets import mnist\n",
        "from keras.datasets import cifar10\n",
        "from keras.utils import to_categorical\n",
        "from keras.models import Sequential\n",
        "from keras.layers import Conv2D, MaxPooling2D\n",
        "from keras.layers import Dense, Dropout, Flatten\n",
        "from keras.optimizers import SGD\n",
        "from keras.preprocessing.image import ImageDataGenerator\n",
        "from keras.layers import BatchNormalization\n",
        "\n",
        "print (\"imports complete . . .\")"
      ],
      "execution_count": 0,
      "outputs": [
        {
          "output_type": "stream",
          "text": [
            "imports complete . . .\n"
          ],
          "name": "stdout"
        }
      ]
    },
    {
      "cell_type": "markdown",
      "metadata": {
        "id": "q6UDXWFMn7UE",
        "colab_type": "text"
      },
      "source": [
        "Initialize Parameters here"
      ]
    },
    {
      "cell_type": "code",
      "metadata": {
        "id": "V_3Yd_9KnmGH",
        "colab_type": "code",
        "colab": {}
      },
      "source": [
        "epoch_cifar = 40\n",
        "epoch_mnist = 30\n",
        "lr_cifar = 0.01\n",
        "batch_size_mnist = 64\n",
        "batch_size_cifar = 64\n",
        "# input image dimensions\n",
        "input_shape_MNIST = (28, 28, 1)"
      ],
      "execution_count": 0,
      "outputs": []
    },
    {
      "cell_type": "markdown",
      "metadata": {
        "id": "WuS_RHbPopvD",
        "colab_type": "text"
      },
      "source": [
        "Normalize Data\n"
      ]
    },
    {
      "cell_type": "code",
      "metadata": {
        "id": "qLN8P38ckTJq",
        "colab_type": "code",
        "colab": {}
      },
      "source": [
        "def normalizer(train, test):\n",
        "    train_norm = train.astype('float32')/ 255.0\n",
        "    test_norm = test.astype('float32') / 255.0\n",
        "    print(\"Data Normalized . . .\")\n",
        "\n",
        "    return train_norm, test_norm\n"
      ],
      "execution_count": 0,
      "outputs": []
    },
    {
      "cell_type": "markdown",
      "metadata": {
        "id": "Cf73TeMlpHEr",
        "colab_type": "text"
      },
      "source": [
        "Define CNN model for CIFAR"
      ]
    },
    {
      "cell_type": "code",
      "metadata": {
        "id": "X1J2aph9kWUX",
        "colab_type": "code",
        "colab": {}
      },
      "source": [
        "def model_CIFAR():\n",
        "    model = Sequential()\n",
        "    model.add(Conv2D(32, (3, 3), activation='relu', kernel_initializer='he_uniform', padding='same', input_shape=(32, 32, 3)))\n",
        "    model.add(BatchNormalization())\n",
        "    \n",
        "    model.add(Conv2D(32, (3, 3), activation='relu', kernel_initializer='he_uniform', padding='same'))\n",
        "    model.add(BatchNormalization())    \n",
        "    model.add(MaxPooling2D((2, 2)))\n",
        "    model.add(Dropout(0.2))\n",
        "    \n",
        "    model.add(Conv2D(64, (3, 3), activation='relu', kernel_initializer='he_uniform', padding='same'))\n",
        "    model.add(BatchNormalization())\n",
        "    \n",
        "    model.add(Conv2D(64, (3, 3), activation='relu', kernel_initializer='he_uniform', padding='same'))\n",
        "    model.add(BatchNormalization())    \n",
        "    model.add(MaxPooling2D((2, 2)))\n",
        "    model.add(Dropout(0.3))\n",
        "    \n",
        "    model.add(Conv2D(128, (3, 3), activation='relu', kernel_initializer='he_uniform', padding='same'))\n",
        "    model.add(BatchNormalization())\n",
        "    \n",
        "    model.add(Conv2D(128, (3, 3), activation='relu', kernel_initializer='he_uniform', padding='same'))\n",
        "    model.add(BatchNormalization())\n",
        "    model.add(MaxPooling2D((2, 2)))\n",
        "    model.add(Dropout(0.4))\n",
        "    model.add(Flatten())\n",
        "    \n",
        "    model.add(Dense(128, activation='relu', kernel_initializer='he_uniform'))\n",
        "    model.add(BatchNormalization())\n",
        "    model.add(Dropout(0.5))\n",
        "    \n",
        "    model.add(Dense(10, activation='softmax'))\n",
        "\n",
        "    # compile model\n",
        "    opt = SGD(lr=lr_cifar, momentum=0.9)\n",
        "    model.compile(optimizer=opt, loss=keras.losses.categorical_crossentropy, metrics=['accuracy'])\n",
        "\n",
        "    print (\"Modelling Complete . . .\")\n",
        "    return model"
      ],
      "execution_count": 0,
      "outputs": []
    },
    {
      "cell_type": "markdown",
      "metadata": {
        "id": "yW-VgrTkmXDd",
        "colab_type": "text"
      },
      "source": [
        "Define CNN model for MNIST"
      ]
    },
    {
      "cell_type": "code",
      "metadata": {
        "id": "debgt9SumZrX",
        "colab_type": "code",
        "colab": {}
      },
      "source": [
        "def model_MNIST():\n",
        "    model = Sequential()\n",
        "    model.add(Conv2D(32, kernel_size=(3, 3), activation='relu', input_shape=input_shape_MNIST))\n",
        "    model.add(Conv2D(64, (3, 3), activation='relu'))\n",
        "    model.add(MaxPooling2D(pool_size=(2, 2)))\n",
        "    model.add(Dropout(0.25))\n",
        "    model.add(Flatten())\n",
        "    model.add(Dense(128, activation='relu'))\n",
        "    model.add(Dropout(0.5))\n",
        "    model.add(Dense(10, activation='softmax'))\n",
        "\n",
        "    opt = keras.optimizers.Adadelta()\n",
        "    model.compile(loss=keras.losses.categorical_crossentropy, optimizer=opt, metrics=['accuracy'])\n",
        "    return model"
      ],
      "execution_count": 0,
      "outputs": []
    },
    {
      "cell_type": "markdown",
      "metadata": {
        "id": "viQnaMl4qDru",
        "colab_type": "text"
      },
      "source": [
        "Train and evaluate the Model CIFAR"
      ]
    },
    {
      "cell_type": "code",
      "metadata": {
        "id": "khMJdf6nklv-",
        "colab_type": "code",
        "colab": {}
      },
      "source": [
        "def train_CNN_CIFAR():\n",
        "    # load data\n",
        "    (trainX, trainY), (testX, testY) = cifar10.load_data()\n",
        "    # one hot encoding\n",
        "    trainY = to_categorical(trainY)\n",
        "    testY = to_categorical(testY)\n",
        "    print(\"Datasets loaded . . .\")\n",
        "\n",
        "    trainX, testX = normalizer(trainX, testX)\n",
        "    \n",
        "    model = model_CIFAR()\n",
        "\n",
        "    # # create data generator\n",
        "    # datagenerator = ImageDataGenerator(width_shift_range=0.1, height_shift_range=0.1, horizontal_flip=True)    \n",
        "    # train_itr = datagenerator.flow(trainX, trainY, batch_size=64)\n",
        "    # steps = int(trainX.shape[0] / 32)\n",
        "    # history = model.fit_generator(train_itr, steps_per_epoch=steps, epochs=epoch_cifar, validation_data=(testX, testY), verbose=1)\n",
        "    \n",
        "    # fit the model\n",
        "    print (\"Training Started . . .\")\n",
        "    history = model.fit(trainX, trainY, batch_size=batch_size_cifar, epochs=epoch_cifar, verbose=1, validation_data=(testX, testY))\n",
        "    model.save(\"CIFAR_model.pickle\")\n",
        "    # evaluate model\n",
        "    score = model.evaluate(testX, testY, verbose=0)\n",
        "    print ('Model Evaluation > CIFAR Dataset :-')\n",
        "    print('Test Loss : %.3f' % (score[0] * 100.0))\n",
        "    print('Test Accuracy : %.3f'% (score[1] * 100))\n",
        "    # Plotting\n",
        "    plot_summary(history,'CIFAR')"
      ],
      "execution_count": 0,
      "outputs": []
    },
    {
      "cell_type": "markdown",
      "metadata": {
        "id": "9_HN67ZenDKu",
        "colab_type": "text"
      },
      "source": [
        "Train and evaluate the Model MNIST"
      ]
    },
    {
      "cell_type": "code",
      "metadata": {
        "id": "VHkmKmb3nD50",
        "colab_type": "code",
        "colab": {}
      },
      "source": [
        "def train_CNN_MNIST():\n",
        "    # load data\n",
        "    (trainX, trainY), (testX, testY) = mnist.load_data()\n",
        "\n",
        "    trainX = trainX.reshape(trainX.shape[0], input_shape_MNIST[0], input_shape_MNIST[1], input_shape_MNIST[2])\n",
        "    testX = testX.reshape(testX.shape[0], input_shape_MNIST[0], input_shape_MNIST[1], input_shape_MNIST[2])\n",
        "\n",
        "    trainX, testX = normalizer(trainX, testX)\n",
        "\n",
        "    # one hot encoding\n",
        "    trainY = to_categorical(trainY)\n",
        "    testY = to_categorical(testY)\n",
        "\n",
        "    model = model_MNIST()\n",
        "\n",
        "    # fit the model\n",
        "    print(\"Training Started . . .\")\n",
        "    history = model.fit(trainX, trainY, batch_size=batch_size_mnist, epochs=epoch_mnist, verbose=1, validation_data=(testX, testY))\n",
        "    model.save(\"MNIST_model.pickle\")\n",
        "    # evaluate model\n",
        "    score = model.evaluate(testX, testY, verbose=0)\n",
        "\n",
        "    print('Model Evaluation > MNIST Dataset :-')\n",
        "    print('Test Loss : %.3f' % (score[0] * 100.0))\n",
        "    print('Test Accuracy : %.3f' % (score[1] * 100))\n",
        "    # print(history.history.keys())\n",
        "    plot_summary(history, \"MNIST\")"
      ],
      "execution_count": 0,
      "outputs": []
    },
    {
      "cell_type": "markdown",
      "metadata": {
        "id": "psGKvhjkK8Ug",
        "colab_type": "text"
      },
      "source": [
        "Plotting"
      ]
    },
    {
      "cell_type": "code",
      "metadata": {
        "id": "ZgMNenM8K-KX",
        "colab_type": "code",
        "colab": {}
      },
      "source": [
        "def plot_summary(history, name):\n",
        "    # summarize history for accuracy\n",
        "    plt.plot(history.history['acc'])\n",
        "    plt.plot(history.history['val_acc'])\n",
        "    plt.title('Accuracy <'+name+'>')\n",
        "    plt.ylabel('accuracy')\n",
        "    plt.xlabel('epoch')\n",
        "    plt.legend(['train', 'test'], loc='upper left')\n",
        "    plt.show()\n",
        "    plt.savefig(name+\"_accuracy.png\")\n",
        "    # summarize history for loss\n",
        "    plt.plot(history.history['loss'])\n",
        "    plt.plot(history.history['val_loss'])\n",
        "    plt.title('Loss <'+name+'>')\n",
        "    plt.ylabel('loss')\n",
        "    plt.xlabel('epoch')\n",
        "    plt.legend(['train', 'test'], loc='upper left')\n",
        "    plt.show()\n",
        "    plt.savefig(name+\"_loss.png\")"
      ],
      "execution_count": 0,
      "outputs": []
    },
    {
      "cell_type": "markdown",
      "metadata": {
        "id": "qsYftSsRmsXH",
        "colab_type": "text"
      },
      "source": [
        "Execution"
      ]
    },
    {
      "cell_type": "code",
      "metadata": {
        "id": "dZ4X8IzdknBk",
        "colab_type": "code",
        "outputId": "4cfda654-9b50-4094-ea98-95b232cb55ef",
        "colab": {
          "base_uri": "https://localhost:8080/",
          "height": 1000
        }
      },
      "source": [
        "def train_CNN():\n",
        "    train_CNN_MNIST()\n",
        "    train_CNN_CIFAR()\n",
        "\n",
        "train_CNN()"
      ],
      "execution_count": 0,
      "outputs": [
        {
          "output_type": "stream",
          "text": [
            "Data Normalized . . .\n",
            "Training Started . . .\n",
            "Train on 60000 samples, validate on 10000 samples\n",
            "Epoch 1/30\n",
            "60000/60000 [==============================] - 12s 193us/step - loss: 0.2138 - acc: 0.9352 - val_loss: 0.0537 - val_acc: 0.9824\n",
            "Epoch 2/30\n",
            "60000/60000 [==============================] - 7s 123us/step - loss: 0.0790 - acc: 0.9767 - val_loss: 0.0394 - val_acc: 0.9872\n",
            "Epoch 3/30\n",
            "60000/60000 [==============================] - 7s 124us/step - loss: 0.0600 - acc: 0.9818 - val_loss: 0.0364 - val_acc: 0.9883\n",
            "Epoch 4/30\n",
            "60000/60000 [==============================] - 7s 122us/step - loss: 0.0503 - acc: 0.9850 - val_loss: 0.0309 - val_acc: 0.9887\n",
            "Epoch 5/30\n",
            "60000/60000 [==============================] - 7s 121us/step - loss: 0.0441 - acc: 0.9867 - val_loss: 0.0270 - val_acc: 0.9910\n",
            "Epoch 6/30\n",
            "60000/60000 [==============================] - 7s 122us/step - loss: 0.0413 - acc: 0.9879 - val_loss: 0.0270 - val_acc: 0.9916\n",
            "Epoch 7/30\n",
            "60000/60000 [==============================] - 7s 123us/step - loss: 0.0372 - acc: 0.9887 - val_loss: 0.0303 - val_acc: 0.9902\n",
            "Epoch 8/30\n",
            "60000/60000 [==============================] - 7s 123us/step - loss: 0.0344 - acc: 0.9895 - val_loss: 0.0334 - val_acc: 0.9895\n",
            "Epoch 9/30\n",
            "60000/60000 [==============================] - 7s 124us/step - loss: 0.0358 - acc: 0.9892 - val_loss: 0.0300 - val_acc: 0.9905\n",
            "Epoch 10/30\n",
            "60000/60000 [==============================] - 7s 124us/step - loss: 0.0329 - acc: 0.9901 - val_loss: 0.0264 - val_acc: 0.9919\n",
            "Epoch 11/30\n",
            "60000/60000 [==============================] - 7s 123us/step - loss: 0.0316 - acc: 0.9902 - val_loss: 0.0288 - val_acc: 0.9906\n",
            "Epoch 12/30\n",
            "60000/60000 [==============================] - 7s 122us/step - loss: 0.0313 - acc: 0.9902 - val_loss: 0.0311 - val_acc: 0.9902\n",
            "Epoch 13/30\n",
            "60000/60000 [==============================] - 7s 123us/step - loss: 0.0312 - acc: 0.9904 - val_loss: 0.0371 - val_acc: 0.9892\n",
            "Epoch 14/30\n",
            "60000/60000 [==============================] - 7s 123us/step - loss: 0.0291 - acc: 0.9914 - val_loss: 0.0297 - val_acc: 0.9910\n",
            "Epoch 15/30\n",
            "60000/60000 [==============================] - 7s 123us/step - loss: 0.0289 - acc: 0.9915 - val_loss: 0.0294 - val_acc: 0.9907\n",
            "Epoch 16/30\n",
            "60000/60000 [==============================] - 7s 121us/step - loss: 0.0283 - acc: 0.9917 - val_loss: 0.0276 - val_acc: 0.9914\n",
            "Epoch 17/30\n",
            "60000/60000 [==============================] - 7s 122us/step - loss: 0.0265 - acc: 0.9921 - val_loss: 0.0342 - val_acc: 0.9917\n",
            "Epoch 18/30\n",
            "60000/60000 [==============================] - 7s 122us/step - loss: 0.0282 - acc: 0.9913 - val_loss: 0.0302 - val_acc: 0.9912\n",
            "Epoch 19/30\n",
            "60000/60000 [==============================] - 7s 123us/step - loss: 0.0265 - acc: 0.9921 - val_loss: 0.0327 - val_acc: 0.9913\n",
            "Epoch 20/30\n",
            "60000/60000 [==============================] - 7s 122us/step - loss: 0.0261 - acc: 0.9920 - val_loss: 0.0306 - val_acc: 0.9921\n",
            "Epoch 21/30\n",
            "60000/60000 [==============================] - 7s 122us/step - loss: 0.0246 - acc: 0.9926 - val_loss: 0.0278 - val_acc: 0.9922\n",
            "Epoch 22/30\n",
            "60000/60000 [==============================] - 7s 123us/step - loss: 0.0250 - acc: 0.9925 - val_loss: 0.0332 - val_acc: 0.9914\n",
            "Epoch 23/30\n",
            "60000/60000 [==============================] - 7s 124us/step - loss: 0.0255 - acc: 0.9926 - val_loss: 0.0300 - val_acc: 0.9911\n",
            "Epoch 24/30\n",
            "60000/60000 [==============================] - 7s 122us/step - loss: 0.0239 - acc: 0.9926 - val_loss: 0.0285 - val_acc: 0.9917\n",
            "Epoch 25/30\n",
            "60000/60000 [==============================] - 7s 122us/step - loss: 0.0225 - acc: 0.9932 - val_loss: 0.0343 - val_acc: 0.9898\n",
            "Epoch 26/30\n",
            "60000/60000 [==============================] - 7s 123us/step - loss: 0.0241 - acc: 0.9925 - val_loss: 0.0300 - val_acc: 0.9906\n",
            "Epoch 27/30\n",
            "60000/60000 [==============================] - 8s 126us/step - loss: 0.0229 - acc: 0.9932 - val_loss: 0.0317 - val_acc: 0.9913\n",
            "Epoch 28/30\n",
            "60000/60000 [==============================] - 7s 124us/step - loss: 0.0222 - acc: 0.9934 - val_loss: 0.0310 - val_acc: 0.9916\n",
            "Epoch 29/30\n",
            "60000/60000 [==============================] - 7s 122us/step - loss: 0.0215 - acc: 0.9937 - val_loss: 0.0312 - val_acc: 0.9912\n",
            "Epoch 30/30\n",
            "60000/60000 [==============================] - 7s 122us/step - loss: 0.0198 - acc: 0.9941 - val_loss: 0.0326 - val_acc: 0.9923\n",
            "Model Evaluation > MNIST Dataset :-\n",
            "Test Loss : 3.257\n",
            "Test Accuracy : 99.230\n"
          ],
          "name": "stdout"
        },
        {
          "output_type": "display_data",
          "data": {
            "image/png": "[encoded data removed]",
            "text/plain": [
              "<Figure size 432x288 with 1 Axes>"
            ]
          },
          "metadata": {
            "tags": []
          }
        },
        {
          "output_type": "display_data",
          "data": {
            "image/png": "[encoded data removed]",
            "text/plain": [
              "<Figure size 432x288 with 1 Axes>"
            ]
          },
          "metadata": {
            "tags": []
          }
        },
        {
          "output_type": "stream",
          "text": [
            "Datasets loaded . . .\n",
            "Data Normalized . . .\n",
            "Modelling Complete . . .\n",
            "Training Started . . .\n",
            "Train on 50000 samples, validate on 10000 samples\n",
            "Epoch 1/40\n",
            "50000/50000 [==============================] - 17s 335us/step - loss: 1.5947 - acc: 0.4246 - val_loss: 1.4677 - val_acc: 0.4815\n",
            "Epoch 2/40\n",
            "50000/50000 [==============================] - 12s 236us/step - loss: 1.2148 - acc: 0.5629 - val_loss: 1.1381 - val_acc: 0.5841\n",
            "Epoch 3/40\n",
            "50000/50000 [==============================] - 12s 235us/step - loss: 1.0396 - acc: 0.6309 - val_loss: 0.9408 - val_acc: 0.6585\n",
            "Epoch 4/40\n",
            "50000/50000 [==============================] - 12s 234us/step - loss: 0.9260 - acc: 0.6739 - val_loss: 0.8384 - val_acc: 0.7057\n",
            "Epoch 5/40\n",
            "50000/50000 [==============================] - 12s 234us/step - loss: 0.8477 - acc: 0.7028 - val_loss: 0.8839 - val_acc: 0.6911\n",
            "Epoch 6/40\n",
            "50000/50000 [==============================] - 12s 233us/step - loss: 0.7910 - acc: 0.7237 - val_loss: 0.7830 - val_acc: 0.7261\n",
            "Epoch 7/40\n",
            "50000/50000 [==============================] - 12s 233us/step - loss: 0.7380 - acc: 0.7402 - val_loss: 0.6509 - val_acc: 0.7727\n",
            "Epoch 8/40\n",
            "50000/50000 [==============================] - 12s 235us/step - loss: 0.7025 - acc: 0.7554 - val_loss: 0.7016 - val_acc: 0.7531\n",
            "Epoch 9/40\n",
            "50000/50000 [==============================] - 12s 235us/step - loss: 0.6672 - acc: 0.7675 - val_loss: 0.5989 - val_acc: 0.7898\n",
            "Epoch 10/40\n",
            "50000/50000 [==============================] - 12s 233us/step - loss: 0.6344 - acc: 0.7779 - val_loss: 0.5744 - val_acc: 0.8018\n",
            "Epoch 11/40\n",
            "50000/50000 [==============================] - 12s 233us/step - loss: 0.6125 - acc: 0.7890 - val_loss: 0.6364 - val_acc: 0.7770\n",
            "Epoch 12/40\n",
            "50000/50000 [==============================] - 12s 234us/step - loss: 0.5886 - acc: 0.7959 - val_loss: 0.5671 - val_acc: 0.8038\n",
            "Epoch 13/40\n",
            "50000/50000 [==============================] - 12s 233us/step - loss: 0.5634 - acc: 0.8059 - val_loss: 0.5784 - val_acc: 0.8002\n",
            "Epoch 14/40\n",
            "50000/50000 [==============================] - 12s 233us/step - loss: 0.5391 - acc: 0.8136 - val_loss: 0.5241 - val_acc: 0.8197\n",
            "Epoch 15/40\n",
            "50000/50000 [==============================] - 12s 234us/step - loss: 0.5264 - acc: 0.8187 - val_loss: 0.5106 - val_acc: 0.8248\n",
            "Epoch 16/40\n",
            "50000/50000 [==============================] - 12s 234us/step - loss: 0.5047 - acc: 0.8254 - val_loss: 0.5423 - val_acc: 0.8167\n",
            "Epoch 17/40\n",
            "50000/50000 [==============================] - 12s 232us/step - loss: 0.4906 - acc: 0.8299 - val_loss: 0.5180 - val_acc: 0.8252\n",
            "Epoch 18/40\n",
            "50000/50000 [==============================] - 12s 235us/step - loss: 0.4781 - acc: 0.8368 - val_loss: 0.4870 - val_acc: 0.8363\n",
            "Epoch 19/40\n",
            "50000/50000 [==============================] - 12s 231us/step - loss: 0.4592 - acc: 0.8401 - val_loss: 0.5266 - val_acc: 0.8243\n",
            "Epoch 20/40\n",
            "50000/50000 [==============================] - 12s 234us/step - loss: 0.4492 - acc: 0.8455 - val_loss: 0.5185 - val_acc: 0.8273\n",
            "Epoch 21/40\n",
            "50000/50000 [==============================] - 12s 232us/step - loss: 0.4363 - acc: 0.8479 - val_loss: 0.5168 - val_acc: 0.8262\n",
            "Epoch 22/40\n",
            "50000/50000 [==============================] - 12s 234us/step - loss: 0.4208 - acc: 0.8547 - val_loss: 0.4780 - val_acc: 0.8373\n",
            "Epoch 23/40\n",
            "50000/50000 [==============================] - 12s 234us/step - loss: 0.4116 - acc: 0.8568 - val_loss: 0.5989 - val_acc: 0.8050\n",
            "Epoch 24/40\n",
            "50000/50000 [==============================] - 12s 238us/step - loss: 0.3990 - acc: 0.8601 - val_loss: 0.4779 - val_acc: 0.8413\n",
            "Epoch 25/40\n",
            "50000/50000 [==============================] - 12s 234us/step - loss: 0.3974 - acc: 0.8626 - val_loss: 0.4804 - val_acc: 0.8455\n",
            "Epoch 26/40\n",
            "50000/50000 [==============================] - 12s 233us/step - loss: 0.3854 - acc: 0.8667 - val_loss: 0.4851 - val_acc: 0.8392\n",
            "Epoch 27/40\n",
            "50000/50000 [==============================] - 12s 233us/step - loss: 0.3762 - acc: 0.8698 - val_loss: 0.4846 - val_acc: 0.8428\n",
            "Epoch 28/40\n",
            "50000/50000 [==============================] - 12s 235us/step - loss: 0.3701 - acc: 0.8712 - val_loss: 0.4625 - val_acc: 0.8478\n",
            "Epoch 29/40\n",
            "50000/50000 [==============================] - 12s 233us/step - loss: 0.3590 - acc: 0.8762 - val_loss: 0.4937 - val_acc: 0.8423\n",
            "Epoch 30/40\n",
            "50000/50000 [==============================] - 12s 234us/step - loss: 0.3532 - acc: 0.8785 - val_loss: 0.4601 - val_acc: 0.8491\n",
            "Epoch 31/40\n",
            "50000/50000 [==============================] - 12s 234us/step - loss: 0.3486 - acc: 0.8781 - val_loss: 0.4728 - val_acc: 0.8486\n",
            "Epoch 32/40\n",
            "50000/50000 [==============================] - 12s 236us/step - loss: 0.3381 - acc: 0.8817 - val_loss: 0.4748 - val_acc: 0.8486\n",
            "Epoch 33/40\n",
            "50000/50000 [==============================] - 12s 236us/step - loss: 0.3316 - acc: 0.8846 - val_loss: 0.4684 - val_acc: 0.8516\n",
            "Epoch 34/40\n",
            "50000/50000 [==============================] - 12s 232us/step - loss: 0.3302 - acc: 0.8849 - val_loss: 0.4762 - val_acc: 0.8499\n",
            "Epoch 35/40\n",
            "50000/50000 [==============================] - 12s 233us/step - loss: 0.3176 - acc: 0.8875 - val_loss: 0.5033 - val_acc: 0.8429\n",
            "Epoch 36/40\n",
            "50000/50000 [==============================] - 12s 236us/step - loss: 0.3150 - acc: 0.8901 - val_loss: 0.4591 - val_acc: 0.8544\n",
            "Epoch 37/40\n",
            "50000/50000 [==============================] - 12s 234us/step - loss: 0.3095 - acc: 0.8918 - val_loss: 0.4740 - val_acc: 0.8475\n",
            "Epoch 38/40\n",
            "50000/50000 [==============================] - 12s 236us/step - loss: 0.2989 - acc: 0.8956 - val_loss: 0.4501 - val_acc: 0.8559\n",
            "Epoch 39/40\n",
            "50000/50000 [==============================] - 12s 235us/step - loss: 0.2935 - acc: 0.8975 - val_loss: 0.4925 - val_acc: 0.8447\n",
            "Epoch 40/40\n",
            "50000/50000 [==============================] - 12s 233us/step - loss: 0.2909 - acc: 0.8984 - val_loss: 0.4634 - val_acc: 0.8551\n",
            "Model Evaluation > CIFAR Dataset :-\n",
            "Test Loss : 46.338\n",
            "Test Accuracy : 85.510\n"
          ],
          "name": "stdout"
        },
        {
          "output_type": "display_data",
          "data": {
            "image/png": "[encoded data removed]",
            "text/plain": [
              "<Figure size 432x288 with 1 Axes>"
            ]
          },
          "metadata": {
            "tags": []
          }
        },
        {
          "output_type": "display_data",
          "data": {
            "image/png": "[encoded data removed]",
            "text/plain": [
              "<Figure size 432x288 with 1 Axes>"
            ]
          },
          "metadata": {
            "tags": []
          }
        },
        {
          "output_type": "display_data",
          "data": {
            "text/plain": [
              "<Figure size 432x288 with 0 Axes>"
            ]
          },
          "metadata": {
            "tags": []
          }
        }
      ]
    }
  ]
}